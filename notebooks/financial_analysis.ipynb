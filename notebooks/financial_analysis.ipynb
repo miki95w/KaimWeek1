 


import ta

# Calculate technical indicators
df['SMA_20'] = ta.trend.SMAIndicator(df['Close'], window=20).sma_indicator()
df['RSI'] = ta.momentum.RSIIndicator(df['Close'], window=14).rsi()
df['MACD'] = ta.trend.MACD(df['Close']).macd()
df['MACD_signal'] = ta.trend.MACD(df['Close']).macd_signal()
df['MACD_hist'] = ta.trend.MACD(df['Close']).macd_diff()

# Display the DataFrame with new indicators
print(df.head())


 import matplotlib.pyplot as plt
import seaborn as sns

# Plot closing prices and SMA
plt.figure(figsize=(14, 7))
plt.plot(df.index, df['Close'], label='Close Price')
plt.plot(df.index, df['SMA_20'], label='20-Day SMA', linestyle='--')
plt.title('Stock Price and 20-Day SMA')
plt.xlabel('Date')
plt.ylabel('Price')
plt.legend()
plt.show()

# Plot RSI
plt.figure(figsize=(14, 5))
plt.plot(df.index, df['RSI'], label='RSI', color='orange')
plt.axhline(70, color='red', linestyle='--', label='Overbought')
plt.axhline(30, color='green', linestyle='--', label='Oversold')
plt.title('Relative Strength Index (RSI)')
plt.xlabel('Date')
plt.ylabel('RSI')
plt.legend()
plt.show()

# Plot MACD
plt.figure(figsize=(14, 7))
plt.plot(df.index, df['MACD'], label='MACD')
plt.plot(df.index, df['MACD_signal'], label='MACD Signal Line', linestyle='--')
plt.bar(df.index, df['MACD_hist'], label='MACD Histogram', color='gray')
plt.title('MACD and MACD Signal Line')
plt.xlabel('Date')
plt.ylabel('Value')
plt.legend()
plt.show()